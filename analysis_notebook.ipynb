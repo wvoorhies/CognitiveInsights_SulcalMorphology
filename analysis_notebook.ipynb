{
 "cells": [
  {
   "cell_type": "markdown",
   "metadata": {},
   "source": [
    "# Analysis notebook\n",
    "This notebook contains the analysis pipeline and figures for the manuscript: Voorhies et al. (2020). *Cognitive insights from evoluationarily new brain structures in prefrontal cortex* (under review)\n",
    "\n",
    "For simplicity, this notebook references cleaned/formatted data from .csv files included in this repository. \n",
    "If you have any questions about data cleaning process, storage, or would like access to raw data please contact Willa Voorhies (wvoorhies@berkeley.edu).\n",
    "\n",
    "## software requirements ## \n",
    "* software: Please consult the README.txt file for specific package and version requirements.\n",
    "\n",
    "## data ###\n",
    "* All data necessary for the analyses and figures is included in this repository.\n",
    "* Morphological data was extracted with freesurfer (see manuscript methods). A sample function to extract the sulcal metrics of interest from cortical surface reconstructions is included here. Testing this requires access to a freesurfer directory. Please contact Willa Voorhies if you have additional questions about the sulcal data.  \n"
   ]
  },
  {
   "cell_type": "markdown",
   "metadata": {},
   "source": [
    "## Setup ##"
   ]
  },
  {
   "cell_type": "code",
   "execution_count": null,
   "metadata": {},
   "outputs": [],
   "source": [
    "#### load packages ####\n",
    "import numpy as np\n",
    "import pandas as pd\n",
    "import nilearn\n",
    "import nibabel as nib"
   ]
  },
  {
   "cell_type": "markdown",
   "metadata": {},
   "source": [
    "### Set up rpy2 for R functionality"
   ]
  },
  {
   "cell_type": "code",
   "execution_count": null,
   "metadata": {},
   "outputs": [],
   "source": [
    "#### setup rpy2 ####\n",
    "# run once at start of session\n",
    "%load_ext rpy2.ipython"
   ]
  },
  {
   "cell_type": "code",
   "execution_count": null,
   "metadata": {},
   "outputs": [],
   "source": [
    "#### import robjects ####\n",
    "import tzlocal\n",
    "import rpy2.robjects \n",
    "from rpy2.robjects import r"
   ]
  },
  {
   "cell_type": "code",
   "execution_count": null,
   "metadata": {},
   "outputs": [],
   "source": [
    "#### import rpackages ####\n",
    "\n",
    "# import rpy2's package module\n",
    "import rpy2.robjects.packages as rpackages\n",
    "\n",
    "# import R's utility package\n",
    "utils = rpackages.importr('utils')\n",
    "\n",
    "# select a mirror for R packages\n",
    "utils.chooseCRANmirror(ind=1) # select the first mirror in the list"
   ]
  },
  {
   "cell_type": "code",
   "execution_count": null,
   "metadata": {},
   "outputs": [],
   "source": [
    "%%R\n",
    "## load packages ##\n",
    "library('tidyverse')"
   ]
  },
  {
   "cell_type": "markdown",
   "metadata": {},
   "source": [
    "# Morphological data\n",
    "For completeness, we include a sample function to extract morphological data (cortical thickness, sulcal depth) from cortical surface reconstructions. This step requires access to a freesurfer directory. It is **not** ncessary to run this step to test the rest of the pipeline. The output from this step has been formatted as a .csv file and is included in the repository. "
   ]
  },
  {
   "cell_type": "code",
   "execution_count": null,
   "metadata": {},
   "outputs": [],
   "source": [
    "def morphological_metrics(subjects_dir, sub_list, labels, outdir):\n",
    "    '''\n",
    "                          Sulcal Depth and Morphology script \n",
    "    OUTPUT: a CSV saved to project folder with minimum/maximum sulcal depth for each sulcal label (normalized to deepest point in hemisphere)\n",
    "    Also includes formatted morphological stats from freesurfer command 'mris_anatomicals' (eg. cortical thickness, GM-volumen, surface area, curvature).\n",
    "    REQUIREMENTS: \n",
    "        1) Run the following freesurfer commands on all subjects:\n",
    "            a) recon-all\n",
    "            b) mris_anatomicals for all labels of interest\n",
    "            output should be nested in freesurfer label directory in the following format:\n",
    "            .../<subject>/<label>/label_stats/<hemi>.<label>.label.stats.txt\n",
    "            eg. sub_1/label/label_stats/lh.MFS.label.stats.txt\n",
    "            \n",
    "        2) A subjects list in a .txt file. \n",
    "        \n",
    "        3) Labels created for sulcus of interest in the format\n",
    "            .../<subject>/<label>/<hemi>.<sulcus>.label.\n",
    "            eg. .../sub_1/label/rh.MFS.label. \n",
    "        All labels should have output from mris_anatomicals.\n",
    "        Split annotation files with annot2label command\n",
    "        \n",
    "        4) nibable and nilearn must be installed and operational\n",
    "        \n",
    "    INPUT:  \n",
    "    - subjects dir = path to freesurfer subjects directory\n",
    "    - sub_list = path to subjects list text file\n",
    "    - labels = alabels of interest as an array of strings eg. ['MFS', 'CoS', 'OTS']\n",
    "    - outdir = path to output directory\n",
    "    \n",
    "    RETURNS:\n",
    "    - dataframe with cortical thickness and sulcal depth for every sulcus for each subject. \n",
    "'''\n",
    "\n",
    "############# pull metrics from mris_anatomicals output ################################\n",
    "\n",
    "    def anatomicals_output (sub, hemi, label):\n",
    "        ''' \n",
    "        reads in output from mris_anatomicals and organizes into a df\n",
    "        Parameters\n",
    "        -----------\n",
    "        label: str\n",
    "        Returns\n",
    "        -------\n",
    "        outputs from mris_anatomicals as an array\n",
    "        '''\n",
    "        # Pull metrics from label txt file for each label for every subject and append to df. \n",
    "\n",
    "        # label stats directory\n",
    "        label_dir = subjects_dir + '/{}/label/'.format(sub)\n",
    "        labels_stats = subjects_dir + '/{}/label/label_stats/'.format(sub)\n",
    "\n",
    "        # extract cortical thickness, volume, surface area and curvature for each label\n",
    "        label_filename = label_dir + '{}.{}.label'.format(hemi,label)\n",
    "        label_stats_filename = labels_stats + '{}.{}.label.stats.txt'.format(hemi,label)\n",
    "        label_data = surface.load_surf_data(label_filename)\n",
    "\n",
    "        # open label stats text file and pull cortical thickness from the bottom line of the file. \n",
    "        with open(label_stats_filename) as f: \n",
    "            lastN = list(f)[-1:]\n",
    "            label_stats = np.array(lastN[0].split()[3], dtype=float)\n",
    "\n",
    "        return label_stats\n",
    "\n",
    "################################## compute mean/max sulcal depth from surface file #####################################################\n",
    "    def calc_depth(sub, hemi, label):\n",
    "        ''''\n",
    "        computes total mean, max sulcal depth and also mean/max depth as percentage of maximum depth in hemi\n",
    "        Parameters\n",
    "        ----------\n",
    "        label: str\n",
    "        Returns\n",
    "        --------\n",
    "        depth values as an array\n",
    "        '''\n",
    "        if sub == 'fsaverage':\n",
    "            sulc_path = subjects_dir + '/fsaverage/surf/{}.smoothsulc'.format(hemi)\n",
    "        else:\n",
    "            sulc_path = subjects_dir + '/{}/surf/{}.sulc'.format(sub, hemi)\n",
    "            sulc_data = surface.load_surf_data(sulc_path)\n",
    "\n",
    "        # Load .sulc file for label vertices\n",
    "        label_filename = label_dir + '{}.{}.label'.format(hemi,label)\n",
    "        label_data = surface.load_surf_data(sulc_path)\n",
    "\n",
    "        # calculate sulcal depth by mean label value in .sulc file\n",
    "        label_mean_depth = np.mean(sulc_data[label_data])\n",
    "        label_max_depth = np.amax(sulc_data[label_data])\n",
    "\n",
    "        # calculate mean sulcal depth as a percentage of max depth in subject\n",
    "        sulc_data_pct_max = sulcaldata/np.amax(sulc_data)\n",
    "        label_mean_depth_pct_max = np.mean(sulc_data_pct_max[label_data])\n",
    "\n",
    "        return np.array([label_mean_depth, label_max_depth, label_mean_depth_pct_max])\n",
    "\n",
    "\n",
    "######################## Compute and organize sulcal morphology data into a CSV ###################################### \n",
    "     # set up CSV\n",
    "\n",
    "    columns =  ['sub', 'hemi', 'label',  'cortical_thickness_mean', \n",
    "                                        'sulcal_depth_mean', 'sulcal_depth_max',\n",
    "                                        'norm_mean_sulcal_depth']\n",
    "    df_anatomical = pd.DataFrame(columns = columns)\n",
    "\n",
    "    # Compute morphological metrics for each subject\n",
    "\n",
    "    for sub_hemi in sub_hemi_combos:\n",
    "        sub = sub_hemi[0]\n",
    "        hemi = sub_hemi[-1]\n",
    "\n",
    "        for label in labels:\n",
    "            # extract cortical thickness, volume, surface area and curvature for each label\n",
    "            anatomicals = anatomicals_output(sub, hemi, label)\n",
    "\n",
    "            # compute sulcal depth\n",
    "            depth = calc_depth(sub, hemi, label)\n",
    "\n",
    "            # append metrics to dataframe\n",
    "            label_stats = np.append(anatomicals, depth)\n",
    "            descriptives = [sub, hemi, label]\n",
    "            df_row = pd.DataFrame([descriptvies + list(label_stats)], columns = columns)\n",
    "            df_anatomical = pd.concat([df_anatomical, df_row], axis=0)\n",
    "\n",
    "    # return a dataframe with all morphological metrics\n",
    "    return df_anatomical"
   ]
  },
  {
   "cell_type": "markdown",
   "metadata": {},
   "source": [
    "# Morphological Analyses #\n",
    "Does sulcal morphology (depth, thickness) differ by hemisphere and/or sulcal type?"
   ]
  },
  {
   "cell_type": "markdown",
   "metadata": {},
   "source": [
    "### Discovery sample"
   ]
  },
  {
   "cell_type": "code",
   "execution_count": null,
   "metadata": {},
   "outputs": [],
   "source": [
    "%%R\n",
    "### load the data ###\n",
    "Discovery_morphology = read.csv('Discovery_morphology.csv')"
   ]
  },
  {
   "cell_type": "markdown",
   "metadata": {},
   "source": [
    "#### Depth ####\n",
    " A 2-way (hemi x type) RM-ANOVA to test for differences in sulcal depth"
   ]
  },
  {
   "cell_type": "code",
   "execution_count": null,
   "metadata": {},
   "outputs": [],
   "source": [
    "%%R\n",
    "Discovery_depth.aov <- aov( norm_mean_sulcal_depth ~ hemi * type +\n",
    "                           Error(sub/(hemi*type)), Discovery_morphology)"
   ]
  },
  {
   "cell_type": "code",
   "execution_count": null,
   "metadata": {
    "scrolled": true
   },
   "outputs": [],
   "source": [
    "%%R\n",
    "summary(Discovery_depth.aov)"
   ]
  },
  {
   "cell_type": "markdown",
   "metadata": {},
   "source": [
    "We see a main effect of type and an interaction between hemisphere and sulcal type"
   ]
  },
  {
   "cell_type": "markdown",
   "metadata": {},
   "source": [
    "compute mean and standard dev for tertiary vs. primary/secondary"
   ]
  },
  {
   "cell_type": "code",
   "execution_count": null,
   "metadata": {},
   "outputs": [],
   "source": [
    "%%R\n",
    "type_stats <- Discovery_morphology %>%\n",
    "        # group tertiary vs. primary/secondary\n",
    "        group_by(type) %>%\n",
    "\n",
    "        # get mean and std. for each sulcal type\n",
    "        summarize(Mean = mean(norm_mean_sulcal_depth),\n",
    "                  sd = sd(norm_mean_sulcal_depth))\n",
    "type_stats"
   ]
  },
  {
   "cell_type": "markdown",
   "metadata": {},
   "source": [
    "Tertiary sulci are more shallow than primary sulci"
   ]
  },
  {
   "cell_type": "markdown",
   "metadata": {},
   "source": [
    "To probe the interaction we examine mean and stdev of tertiary vs. primary/secondary sulci separately in each hemisphere:"
   ]
  },
  {
   "cell_type": "code",
   "execution_count": null,
   "metadata": {},
   "outputs": [],
   "source": [
    "%%R\n",
    "type_hemi_stats <- Discovery_morphology %>%\n",
    "        # separate by type and hemisphere\n",
    "        group_by(type, hemi) %>%\n",
    "\n",
    "        # get mean and std.\n",
    "        summarize(Mean = mean(norm_mean_sulcal_depth),\n",
    "                  sd = sd(norm_mean_sulcal_depth))\n",
    "type_hemi_stats"
   ]
  },
  {
   "cell_type": "markdown",
   "metadata": {},
   "source": [
    "Right hemisphere tertiary sulci are deeper than left hemisphere tertiary sulci. "
   ]
  },
  {
   "cell_type": "markdown",
   "metadata": {},
   "source": [
    "#### Thickness\n",
    " A 2-way (hemi x type) RM-ANOVA to test for differences in cortical thickness"
   ]
  },
  {
   "cell_type": "code",
   "execution_count": null,
   "metadata": {},
   "outputs": [],
   "source": [
    "%%R\n",
    "## Compute the 2-way repeated measures ANOVA ##\n",
    "Discovery_thick.aov <- aov( mean_cortical_thickness ~ hemi * type +\n",
    "                           Error(sub/(hemi*type)), Discovery_morphology)"
   ]
  },
  {
   "cell_type": "code",
   "execution_count": null,
   "metadata": {},
   "outputs": [],
   "source": [
    "%%R\n",
    "summary(Discovery_thick.aov)"
   ]
  },
  {
   "cell_type": "markdown",
   "metadata": {},
   "source": [
    "We see a main effect of hemisphere but no differences between tertiary and primary/secondary sulci"
   ]
  },
  {
   "cell_type": "markdown",
   "metadata": {},
   "source": [
    "We can compare the mean and std between left and right hemisphere sulci:"
   ]
  },
  {
   "cell_type": "code",
   "execution_count": null,
   "metadata": {},
   "outputs": [],
   "source": [
    "%%R\n",
    "type_stats <- Discovery_morphology %>%\n",
    "        # LH vs. RH\n",
    "        group_by(hemi) %>%\n",
    "\n",
    "        # get mean and std.\n",
    "        summarize(Mean = mean(mean_cortical_thickness),\n",
    "                  sd = sd(mean_cortical_thickness))\n",
    "type_stats"
   ]
  },
  {
   "cell_type": "markdown",
   "metadata": {},
   "source": [
    "The right hemisphere is thinner than the left hemisphere"
   ]
  },
  {
   "cell_type": "markdown",
   "metadata": {},
   "source": [
    "### Replication sample"
   ]
  },
  {
   "cell_type": "code",
   "execution_count": null,
   "metadata": {},
   "outputs": [],
   "source": [
    "%%R\n",
    "### load the data ###\n",
    "Replication_morphology = read.csv('Replication_morphology.csv')"
   ]
  },
  {
   "cell_type": "markdown",
   "metadata": {},
   "source": [
    "#### Depth\n",
    " A 2-way (hemi x type) RM-ANOVA to test for differences in sulcal depth"
   ]
  },
  {
   "cell_type": "code",
   "execution_count": null,
   "metadata": {},
   "outputs": [],
   "source": [
    "%%R\n",
    "## Compute the 2-way repeated measures ANOVA ##\n",
    "Replication_depth.aov <- aov( norm_mean_sulcal_depth ~ hemi * type +\n",
    "                             Error(sub/(hemi*type)), Replication_morphology)"
   ]
  },
  {
   "cell_type": "code",
   "execution_count": null,
   "metadata": {},
   "outputs": [],
   "source": [
    "%%R\n",
    "summary(Replication_depth.aov)"
   ]
  },
  {
   "cell_type": "markdown",
   "metadata": {},
   "source": [
    "As in the Discovery sample, we see a main effect of sulcal type, but no interaction"
   ]
  },
  {
   "cell_type": "markdown",
   "metadata": {},
   "source": [
    "We then compute the mean and stdev of tertiary vs. non-tertiary sulci"
   ]
  },
  {
   "cell_type": "code",
   "execution_count": null,
   "metadata": {},
   "outputs": [],
   "source": [
    "%%R\n",
    "type_stats <- Replication_morphology %>%\n",
    "        # tertiary vs. primary/secondary\n",
    "        group_by(type) %>%\n",
    "\n",
    "        # get mean and std.\n",
    "        summarize(Mean = mean(norm_mean_sulcal_depth),\n",
    "                  sd = sd(norm_mean_sulcal_depth))\n",
    "type_stats"
   ]
  },
  {
   "cell_type": "markdown",
   "metadata": {},
   "source": [
    "As in the Discovery sample, tertiary sulci are more shallow than primary/secondary sulci"
   ]
  },
  {
   "cell_type": "markdown",
   "metadata": {},
   "source": [
    "#### Thickness\n",
    " A 2-way (hemi x type) RM-ANOVA to test for differences in cortical thickness"
   ]
  },
  {
   "cell_type": "code",
   "execution_count": null,
   "metadata": {},
   "outputs": [],
   "source": [
    "%%R\n",
    "## Compute the 2-way repeated measures ANOVA ##\n",
    "Replication_thick.aov <- aov( mean_cortical_thickness ~ hemi * type +\n",
    "                             Error(sub/(hemi*type)), Replication_morphology)"
   ]
  },
  {
   "cell_type": "code",
   "execution_count": null,
   "metadata": {
    "scrolled": true
   },
   "outputs": [],
   "source": [
    "%%R\n",
    "summary(Replication_thick.aov)"
   ]
  },
  {
   "cell_type": "markdown",
   "metadata": {},
   "source": [
    "Once again, we see a main effect of hemisphere."
   ]
  },
  {
   "cell_type": "markdown",
   "metadata": {},
   "source": [
    "We can look at the mean and stdev of thickness to compare the two hemispheres"
   ]
  },
  {
   "cell_type": "code",
   "execution_count": null,
   "metadata": {},
   "outputs": [],
   "source": [
    "%%R\n",
    "\n",
    "type_stats <- Replication_morphology %>%\n",
    "        # lh vs rh\n",
    "        group_by(hemi) %>%\n",
    "\n",
    "        # get mean and std.\n",
    "        summarize(Mean = mean(mean_cortical_thickness),\n",
    "                  sd = sd(mean_cortical_thickness))\n",
    "type_stats"
   ]
  },
  {
   "cell_type": "markdown",
   "metadata": {},
   "source": [
    "Consistent with the Discovery sample, the RH is thinner than LH"
   ]
  },
  {
   "cell_type": "markdown",
   "metadata": {},
   "source": [
    "### Plot morphological analyses\n",
    "visualize the above analyses"
   ]
  },
  {
   "cell_type": "markdown",
   "metadata": {},
   "source": [
    "#### Set boxplot"
   ]
  },
  {
   "cell_type": "code",
   "execution_count": null,
   "metadata": {},
   "outputs": [],
   "source": [
    "%%R \n",
    "#### set boxplot theme ####\n",
    "\n",
    "set_theme <- function(){\n",
    "    \n",
    "    # Customize axis and legend\n",
    "    set_theme = theme(\n",
    "            # set axis title size\n",
    "            axis.title.x = element_blank(), \n",
    "            axis.title.y = element_text(color=\"#333333\", angle=90,size=12),\n",
    "        \n",
    "            # set axis text size\n",
    "            axis.text = element_text( color='#333333', size = 14 ),\n",
    "        \n",
    "            # rotate x-axis 45 degrees\n",
    "            axis.text.x = element_text(angle =45, hjust = 1, vjust = 1),\n",
    "        \n",
    "            #change background pannel\n",
    "            panel.grid.major  = element_blank(), \n",
    "                                panel.grid.minor=element_blank(),\n",
    "            # change lengend size\n",
    "            legend.title = element_text(color=\"#333333\",size = 12),\n",
    "            legend.text = element_text( color = '#333333',size = 12),\n",
    "            \n",
    "            # set aspect ratio\n",
    "            aspect.ratio = 1/1\n",
    "    )\n",
    "    # replace classic theme setting with our setting\n",
    "    theme = theme_classic()%+replace% set_theme\n",
    "    \n",
    "    return(theme) \n",
    "    }"
   ]
  },
  {
   "cell_type": "code",
   "execution_count": null,
   "metadata": {},
   "outputs": [],
   "source": [
    "%%R\n",
    "### customize scale ###\n",
    "set_scale <- function (){\n",
    "    scale = scale_fill_manual(name=\"Type\", \n",
    "                      \n",
    "            # manually set color scale\n",
    "            values=c( \"#a6bddb\",\"#0072B2\",\n",
    "                    \"#fdae6b\",\"#D55E00\"),\n",
    "                      \n",
    "            # manually set legend labels\n",
    "            labels=c(\"LH primary/secondary\", \n",
    "                \"RH primary/secondary\",\n",
    "                \"LH tertiary\", \n",
    "                \"RH tertiary\"))\n",
    "    return (scale)\n",
    "}\n",
    "    "
   ]
  },
  {
   "cell_type": "code",
   "execution_count": null,
   "metadata": {},
   "outputs": [],
   "source": [
    "%%R\n",
    "#### set boxplot ####\n",
    "\n",
    "boxplot <- function (ggplot_object, xlab, ylab, ymin, ymax){\n",
    "\n",
    "   plot=ggplot_object + \n",
    "    \n",
    "    # boxplot\n",
    "    geom_boxplot() +\n",
    "\n",
    "    # set y-axis limits\n",
    "    ylim(ymin, ymax) +\n",
    "\n",
    "    # set axis labels\n",
    "    xlab(xlab) + \n",
    "    ylab(ylab)\n",
    "        \n",
    "    return(plot)\n",
    "}"
   ]
  },
  {
   "cell_type": "markdown",
   "metadata": {},
   "source": [
    "###  Depth \n",
    "figure 2c: Plot sulcal depth by sulcal type and hemisphere"
   ]
  },
  {
   "cell_type": "markdown",
   "metadata": {},
   "source": [
    "#### Discovery"
   ]
  },
  {
   "cell_type": "code",
   "execution_count": null,
   "metadata": {},
   "outputs": [],
   "source": [
    "%%R\n",
    "\n",
    "## set up Discovery data for plotting ##\n",
    "\n",
    "# add a factor that combines sulcal type and hemisphere for color scale\n",
    "Discovery_morphology$grp <- factor(paste(as.character(Discovery_morphology$type),\n",
    "                                         Discovery_morphology$hemi, sep=\"_\"))\n",
    "\n",
    "# Add numbers to sulcal label to allow easy comaprison with figures 2a & b\n",
    "Discovery_morphology$pltlabel <- recode_factor(Discovery_morphology$label,\n",
    "                                               central='1.central',\n",
    "                                               sprs='2.sprs',\n",
    "                                               iprs='3.iprs', \n",
    "                                               ifs='4.ifs ',\n",
    "                                               sfs_p='5.sfs_p',\n",
    "                                               sfs_a='6.sfs_a',\n",
    "                                               imfs_h='7.imfs_h',\n",
    "                                               imfs_v='8.imfs_v',\n",
    "                                               pmfs_p='9.pmfs_p',\n",
    "                                              pmfs_i='10.pmfs_i',\n",
    "                                               pmfs_a='11.pmfs_a',\n",
    "                                               pimfs='12.pimfs')"
   ]
  },
  {
   "cell_type": "code",
   "execution_count": null,
   "metadata": {},
   "outputs": [],
   "source": [
    "%%R \n",
    "#### Generate boxplot ####\n",
    "\n",
    "# define data and aesthetics\n",
    "ggplot_dis_depth <- ggplot(Discovery_morphology, aes(x = factor(pltlabel), y = norm_mean_sulcal_depth ,fill = grp))\n",
    "\n",
    "boxplot(ggplot_dis_depth, \"\", \"Normalized Mean Sulcal Depth\", -0.4, 0.4) + \n",
    "set_theme() + set_scale()\n"
   ]
  },
  {
   "cell_type": "markdown",
   "metadata": {},
   "source": [
    "#### Replication"
   ]
  },
  {
   "cell_type": "code",
   "execution_count": null,
   "metadata": {},
   "outputs": [],
   "source": [
    "%%R \n",
    "#### set up dataframe for plotting ####\n",
    "\n",
    "# add a factor that combines sulcal type and hemisphere for color scale\n",
    "Replication_morphology$grp <- factor(paste(as.character(Replication_morphology$type),\n",
    "                                         Replication_morphology$hemi, sep=\"_\"))\n",
    "\n",
    "# Add numbers to sulcal label to allow easy comaprison with figures 2a & b\n",
    "Replication_morphology$pltlabel <- recode_factor(Replication_morphology$label, \n",
    "                                               central='1.central',\n",
    "                                               sprs='2.sprs',\n",
    "                                               iprs='3.iprs', \n",
    "                                               ifs='4.ifs ',\n",
    "                                               sfs_p='5.sfs_p',\n",
    "                                               sfs_a='6.sfs_a',\n",
    "                                               imfs_h='7.imfs_h',\n",
    "                                               imfs_v='8.imfs_v',\n",
    "                                               pmfs_p='9.pmfs_p',\n",
    "                                               pmfs_i='10.pmfs_i',\n",
    "                                               pmfs_a='11.pmfs_a',\n",
    "                                               pimfs='12.pimfs')"
   ]
  },
  {
   "cell_type": "code",
   "execution_count": null,
   "metadata": {},
   "outputs": [],
   "source": [
    "%%R \n",
    "#### Generate boxplot ####\n",
    "\n",
    "# define data and aesthetics\n",
    "ggplot_rep_depth <- ggplot(Replication_morphology, aes(x = factor(pltlabel), y = norm_mean_sulcal_depth ,fill = grp))\n",
    "\n",
    "boxplot(ggplot_rep_depth, \"\", \"Normalized Mean Sulcal Depth\",-0.4, 0.4) + \n",
    "set_theme() +  set_scale()"
   ]
  },
  {
   "cell_type": "markdown",
   "metadata": {},
   "source": [
    "### Thickness\n",
    "Supplementary Figure 5: plot cortical thickness by sulcal type and hemisphere"
   ]
  },
  {
   "cell_type": "markdown",
   "metadata": {},
   "source": [
    "#### Discovery"
   ]
  },
  {
   "cell_type": "code",
   "execution_count": null,
   "metadata": {
    "scrolled": true
   },
   "outputs": [],
   "source": [
    "%%R \n",
    "#### Generate boxplot ####\n",
    "\n",
    "# define data and aesthetics\n",
    "ggplot_dis_thick <- ggplot(Discovery_morphology, aes(x = factor(pltlabel), y = mean_cortical_thickness ,fill = grp))\n",
    "\n",
    "boxplot(ggplot_dis_thick, \"\", \"mean cortical thickness\", 1.0, 4.0) + \n",
    "set_theme() + set_scale()"
   ]
  },
  {
   "cell_type": "markdown",
   "metadata": {},
   "source": [
    "#### Replication"
   ]
  },
  {
   "cell_type": "code",
   "execution_count": null,
   "metadata": {},
   "outputs": [],
   "source": [
    "%%R \n",
    "#### Generate boxplot ####\n",
    "\n",
    "# define data and aesthetics\n",
    "ggplot_rep_thick <- ggplot(Replication_morphology, aes(x = factor(pltlabel), y = mean_cortical_thickness ,fill = grp))\n",
    "\n",
    "boxplot(ggplot_rep_thick, \"\", \"mean cortical thickness\", 1.0, 4.0) + \n",
    "set_theme() + set_scale()"
   ]
  },
  {
   "cell_type": "markdown",
   "metadata": {},
   "source": [
    "# Morphology - Behavior analyses\n",
    "Does sulcal depth predict Matrix Reasoning score? "
   ]
  },
  {
   "cell_type": "code",
   "execution_count": null,
   "metadata": {},
   "outputs": [],
   "source": [
    "## load data with behavior in wide format ## \n",
    "\n",
    "# Discovery\n",
    "Discovery_depth = pd.read_csv('Discovery_Depth.csv')"
   ]
  },
  {
   "cell_type": "code",
   "execution_count": null,
   "metadata": {},
   "outputs": [],
   "source": [
    "# Replication\n",
    "Replication_depth = pd.read_csv('Replication_Depth.csv')"
   ]
  },
  {
   "cell_type": "markdown",
   "metadata": {},
   "source": [
    "## Discovery sample\n",
    "\n",
    "### Model Selection\n",
    "* **Behavioral metric** : Matrix reasoning score\n",
    "* **Morphological metric** : normalized mean sulcal depth\n",
    "\n",
    "We use a LASSO regression as a form of feature selection to determine which sulci, if any predict reasoning performance. We  use cross-validation to tune the shrinking paramater (alpha) and select the model that minimizes cross-validated mean seqared error. "
   ]
  },
  {
   "cell_type": "code",
   "execution_count": null,
   "metadata": {},
   "outputs": [],
   "source": [
    "# import from sklearn CV and lasso\n",
    "from sklearn.model_selection import GridSearchCV, LeaveOneOut\n",
    "from sklearn.linear_model import Lasso\n",
    "\n",
    "loo = LeaveOneOut()"
   ]
  },
  {
   "cell_type": "markdown",
   "metadata": {},
   "source": [
    "Set up the lasso regression "
   ]
  },
  {
   "cell_type": "code",
   "execution_count": null,
   "metadata": {},
   "outputs": [],
   "source": [
    "## Lasso ##\n",
    "def lasso_(Xr, yr, alpha_vals, n_folds = loo):\n",
    "    ''''\n",
    "        Determine best paramters for LASSO regression and fit model\n",
    "        input\n",
    "        ----------\n",
    "        Xr = predictors \n",
    "        yr = DV\n",
    "        alpha_vals = array of possible alpha values to test \n",
    "        n_folds = folds for cross-validation. Default is loo\n",
    "        Returns\n",
    "        --------\n",
    "        depth values as an array     \n",
    "    '''\n",
    "\n",
    "    # determine the alpha-value that minimizes MSE with GridSearchCV.\n",
    "    lasso = Lasso()\n",
    "    lasso_regressor = GridSearchCV(lasso, alpha_vals, scoring = 'neg_mean_squared_error', cv = n_folds)\n",
    "    lasso_regressor.fit(Xr, yr)\n",
    "\n",
    "    # best alpha and MSE\n",
    "    best_alpha = lasso_regressor.best_params_\n",
    "    best_MSE = lasso_regressor.best_score_\n",
    "\n",
    "    # fit the best model\n",
    "    best_model = lasso_regressor.best_estimator_\n",
    "    best_model.fit(Xr,yr)\n",
    "    best_model.predict(Xr)\n",
    "    \n",
    "    #best_model.score_\n",
    "    return best_alpha, best_MSE, best_model.coef_\n"
   ]
  },
  {
   "cell_type": "markdown",
   "metadata": {},
   "source": [
    "We will consider the LH and RH separately"
   ]
  },
  {
   "cell_type": "code",
   "execution_count": null,
   "metadata": {},
   "outputs": [],
   "source": [
    "## Separate Discovery data by hemisphere ## \n",
    "\n",
    "Discovery_RH_depth = Discovery_depth[Discovery_depth[\"hemi\"] == 'rh']\n",
    "Discovery_LH_depth = Discovery_depth[Discovery_depth[\"hemi\"] == 'lh']\n"
   ]
  },
  {
   "cell_type": "markdown",
   "metadata": {},
   "source": [
    "We make no assumptions about sulcal type. All sulci will be included as predictors in the model. We will fit the model with a very wide range of shrinking paramters (alpha). "
   ]
  },
  {
   "cell_type": "code",
   "execution_count": null,
   "metadata": {},
   "outputs": [],
   "source": [
    "## set-up model ## \n",
    "\n",
    "#  predictors\n",
    "Xr = ['central','sprs','iprs','ifs','sfs_a','sfs_p','ifs',\n",
    "                         'imfs_v','imfs_h', 'pmfs_p','pmfs_a','pmfs_i','pimfs']\n",
    "# DV\n",
    "yr = ['MatrixR']\n",
    "\n",
    "# alpha values\n",
    "alpha = {'alpha':[1e3, 3e-3, 3e-2, 5e-2, 7e-2, 9e-2, 1e-1, 3e-1, 5e-1, 7e-1, 9e-1, 1, 3, 5, 10]}\n"
   ]
  },
  {
   "cell_type": "markdown",
   "metadata": {},
   "source": [
    "First we teest whether sulcal depth of RH sulci is associated with reasoning performance"
   ]
  },
  {
   "cell_type": "code",
   "execution_count": null,
   "metadata": {},
   "outputs": [],
   "source": [
    "## Lasso on RH sulci ## \n",
    "\n",
    "rh_lasso = lasso_(Discovery_RH_depth[Xr], Discovery_RH_depth[yr], alpha)"
   ]
  },
  {
   "cell_type": "markdown",
   "metadata": {},
   "source": [
    "We can see which alpha level provides the best fit"
   ]
  },
  {
   "cell_type": "code",
   "execution_count": null,
   "metadata": {
    "scrolled": false
   },
   "outputs": [],
   "source": [
    "## best RH model ##\n",
    "# alpha\n",
    "print(rh_lasso[0])\n",
    "\n",
    "# neg MSE \n",
    "print(rh_lasso[1])"
   ]
  },
  {
   "cell_type": "markdown",
   "metadata": {},
   "source": [
    "We can view the coefficients at this level of alpha to see which sulci remained as predictors in the model"
   ]
  },
  {
   "cell_type": "code",
   "execution_count": null,
   "metadata": {},
   "outputs": [],
   "source": [
    "# beta-vals\n",
    "print(rh_lasso[2])"
   ]
  },
  {
   "cell_type": "markdown",
   "metadata": {},
   "source": [
    "The best model predictions relies on only three RH tertiary sulci (pmfs_i, pmfs_a, pimfs)"
   ]
  },
  {
   "cell_type": "markdown",
   "metadata": {},
   "source": [
    "We can then examine the relationship between LH sulci and reasoning"
   ]
  },
  {
   "cell_type": "code",
   "execution_count": null,
   "metadata": {},
   "outputs": [],
   "source": [
    "lh_lasso = lasso_(Discovery_LH_depth[Xr], Discovery_LH_depth[yr], alpha)"
   ]
  },
  {
   "cell_type": "markdown",
   "metadata": {},
   "source": [
    "View which model gives us the best fit and the predictors"
   ]
  },
  {
   "cell_type": "code",
   "execution_count": null,
   "metadata": {},
   "outputs": [],
   "source": [
    "## best LH model ##\n",
    "# alpha\n",
    "print(lh_lasso[0])\n",
    "\n",
    "# neg MSE \n",
    "print(lh_lasso[1])\n",
    "\n",
    "# beta-vals\n",
    "print(lh_lasso[2])"
   ]
  },
  {
   "cell_type": "markdown",
   "metadata": {},
   "source": [
    "No LH sulci are associated with Matrix Reasoning score"
   ]
  },
  {
   "cell_type": "markdown",
   "metadata": {},
   "source": [
    "### Plot Lasso\n",
    "To dertermine the shrinking paramater for our model we fit a range of alpha values and selected the one that minimizes MSE-cv. We can visualize this model selection process by plotting the coefficients at every alpha level and the corresponding MSE (figure 3a) \n"
   ]
  },
  {
   "cell_type": "markdown",
   "metadata": {},
   "source": [
    "First we load in the MSE and CV from the lasso regression as an R dataframe"
   ]
  },
  {
   "cell_type": "code",
   "execution_count": null,
   "metadata": {},
   "outputs": [],
   "source": [
    "%%R\n",
    "# load in coefficients and MSE from lasso as R dataframes for ggplot\n",
    "\n",
    "lasso_coefs <- read.csv('plots/lasso_coefs.csv')\n",
    "lasso_mse<- read.csv(\"plots/lasso_MSE.csv\")"
   ]
  },
  {
   "cell_type": "markdown",
   "metadata": {},
   "source": [
    "We then plot the absolute beta value for each predictor at each level of alpha"
   ]
  },
  {
   "cell_type": "code",
   "execution_count": null,
   "metadata": {},
   "outputs": [],
   "source": [
    "%%R\n",
    "# make tile plot for lasso coefs\n",
    "lasso_coef_plt <- ggplot(data = lasso_coefs, aes(x=as.factor(alpha_level), y=as.factor(Sulci))) +\n",
    "                # tile plot\n",
    "                geom_tile(aes(fill = abs(beta),), size=0.3) +\n",
    "                \n",
    "                # set coordinates\n",
    "                coord_equal() +\n",
    "                scale_y_discrete(limits = rev(levels(lasso_coefs$Sulci))) +\n",
    "\n",
    "                # set color gradient\n",
    "                scale_fill_gradient(low = \"#E1E5EB\", high = \"#cb5100\")+\n",
    "\n",
    "                \n",
    "                # set text object and axis labels\n",
    "                geom_text(aes(label=round(beta, digits = 2), \n",
    "                              size = 1), size = 2)+\n",
    "                \n",
    "                # set axis and legend labels\n",
    "                xlab(\"alpha level\") +\n",
    "                ylab('lateral PFC sulci') +\n",
    "                labs(fill = \"abs. beta\") +\n",
    "                \n",
    "                # set theme\n",
    "                theme(\n",
    "                        # set axis title\n",
    "                        axis.title.x = element_text(color=\"#333333\",\n",
    "                                                    size=12), \n",
    "                        axis.title.y = element_text(color=\"#333333\", \n",
    "                                                    angle=90,size=14),\n",
    "                        # set axis text\n",
    "                        axis.text = element_text( color='#333333',\n",
    "                                                 size = 12),\n",
    "                        # set pannel\n",
    "                        panel.grid.major  = element_blank(), \n",
    "                        panel.grid.minor=element_blank(),\n",
    "                        \n",
    "                        # set legend\n",
    "                        legend.title = element_text(color=\"#333333\",size = 12),\n",
    "                        legend.text = element_text( color = '#333333',size = 12),\n",
    "                        \n",
    "                        # set aspect ratio\n",
    "                        aspect.ratio = 1/1\n",
    "                )"
   ]
  },
  {
   "cell_type": "code",
   "execution_count": null,
   "metadata": {},
   "outputs": [],
   "source": [
    "%%R\n",
    "lasso_coef_plt"
   ]
  },
  {
   "cell_type": "markdown",
   "metadata": {},
   "source": [
    "We can then visualize the corresponding MSE at each alpha level to assure ourselves that we have selected the alpha value that minimizes MSE"
   ]
  },
  {
   "cell_type": "code",
   "execution_count": null,
   "metadata": {},
   "outputs": [],
   "source": [
    "%%R\n",
    "### make line plot of MSE ###\n",
    "\n",
    "MSE <- (ggplot(lasso_mse, aes(x=log(alpha), y=MSE)) +\n",
    "        # add smooth line\n",
    "        geom_smooth( color = \"#D25727\" ,\n",
    "                    span = 0.99, \n",
    "                    se = FALSE, \n",
    "                    size = 4) +\n",
    "\n",
    "        # vertical line to indiciate lowest MSE at best alpha level\n",
    "        geom_vline(xintercept = log(0.1), \n",
    "                   linetype=\"dotted\", \n",
    "                   size = 3) +\n",
    "        # axis labels\n",
    "        xlab ('alpha-level')+\n",
    "        ylab(' Cross Validated MSE') +\n",
    "        \n",
    "        # set theme\n",
    "        theme_classic()+\n",
    "\n",
    "        # customize theme\n",
    "        theme(\n",
    "            # set axis title\n",
    "            axis.title.x = element_text(color=\"#333333\",\n",
    "                                          size=14), \n",
    "            axis.title.y = element_text(color=\"#333333\",\n",
    "                                        angle=90,size=14),\n",
    "            # set axis text\n",
    "            axis.text = element_text( color='#333333', \n",
    "                                     size = 14 ,hjust =0),\n",
    "            # set lengend\n",
    "            legend.text = element_text( color = '#333333',\n",
    "                                       size = 12), \n",
    "            # set pannel\n",
    "            panel.grid.minor=element_blank(),\n",
    "            legend.title = element_text(color=\"#333333\",\n",
    "                                        size = 12),\n",
    "            panel.border = element_rect(colour = \"black\", \n",
    "                                        fill=NA, size=1), \n",
    "            # set aspect ratio\n",
    "            aspect.ratio = 10/20)\n",
    "        )"
   ]
  },
  {
   "cell_type": "code",
   "execution_count": null,
   "metadata": {},
   "outputs": [],
   "source": [
    "%%R\n",
    "MSE"
   ]
  },
  {
   "cell_type": "markdown",
   "metadata": {},
   "source": [
    "## Replication sample:\n",
    "\n",
    "### Model Evaluation\n",
    "After determining which sulci are relevant for reasoning performance we use these sulci to construct a model to predict reasoning in our independent replciation sample. To account for the wide age range and the correlation between age and reasoning (see supplementary) we include age as a predictor. we compare this model derived from the Discovery sample to alternative nested models. "
   ]
  },
  {
   "cell_type": "code",
   "execution_count": null,
   "metadata": {},
   "outputs": [],
   "source": [
    "## load sklearn functions for loocv ##\n",
    "from sklearn.model_selection import train_test_split\n",
    "from sklearn import metrics\n",
    "from sklearn import linear_model\n",
    "from sklearn.utils import resample"
   ]
  },
  {
   "cell_type": "markdown",
   "metadata": {},
   "source": [
    "#### Fit linear regression with loocv\n",
    "We fit all of our models using a leave-out-out cross validation which is appropriate for small sample sizes"
   ]
  },
  {
   "cell_type": "code",
   "execution_count": null,
   "metadata": {},
   "outputs": [],
   "source": [
    "# LOOCV\n",
    "def lm_loocv (Xr, yr, mod):\n",
    "    \"\"\"\n",
    "    linear regression with a leave-one-subject out cross validation proceedure. \n",
    "    input: input: Xr = matrix or array of predictors from dataframe  in format X= df[['X1', 'X2', 'Xn']]\n",
    "    yr = Array of DV of interest from dataframe in format y= df['yr']\n",
    "    mod = model name as strip. will be used to save a .csv with model predictions are saved as file for later use\n",
    "    returns: r_squared-cv, mean squared error, dataframe of measured and predicted y-values.\n",
    "\n",
    "    \"\"\"    \n",
    "    \n",
    "    # create arrays to append y-vals\n",
    "    ytests = []\n",
    "    ypreds = []\n",
    "    \n",
    "    # set input arrays as np objects\n",
    "    X_array = np.array(Xr)\n",
    "    y_array = np.array(yr)\n",
    " \n",
    "     # split into train and test\n",
    "    for train_idx, test_idx in loo.split(Xr):\n",
    "        X_train, X_test = X_array[train_idx], X_array[test_idx] #requires arrays\n",
    "        y_train, y_test = y_array[train_idx], y_array[test_idx]\n",
    "\n",
    "        # model to fit\n",
    "        lm = linear_model.LinearRegression() \n",
    "        \n",
    "        # fit model on training data\n",
    "        model = lm.fit(X_train,y_train) \n",
    "        \n",
    "        # generate predictions with testing data\n",
    "        y_pred = lm.predict(X_test) \n",
    "        \n",
    "        #there is only one y-test and y-pred per iteration over the loo.split, \n",
    "        #so we append each score to respective lists.\n",
    "        \n",
    "        ytests += list(y_test) #should be your original y input\n",
    "        ypreds += list(y_pred)\n",
    "\n",
    "    #get mean squared error and R2-cv values by comparing the test to the predicted.       \n",
    "    rr = metrics.r2_score(ytests, ypreds)\n",
    "    ms_error = metrics.mean_squared_error(ytests, ypreds)\n",
    "    \n",
    "    # save predicted/measured scores as a dataframe (and write to csv)\n",
    "    model_preds = pd.DataFrame({\"Measured\": ytests, \"Predicted\": ypreds})\n",
    "    model_preds.to_csv(path_or_buf= \"plots/\" + mod + \".csv\")\n",
    "    \n",
    "    # return regression fit metrics\n",
    "    return rr , ms_error, model_preds  "
   ]
  },
  {
   "cell_type": "markdown",
   "metadata": {},
   "source": [
    "#### bootrapped MSE to estimate emprical confidence intervals\n",
    "loocv can result in high variance and overfitting so will will address this concern by providing empirically estimated MSE confidence intervals."
   ]
  },
  {
   "cell_type": "code",
   "execution_count": null,
   "metadata": {},
   "outputs": [],
   "source": [
    "from sklearn.utils import resample\n",
    "np.random.seed(342)"
   ]
  },
  {
   "cell_type": "markdown",
   "metadata": {},
   "source": [
    "We will perform 10,000 iterations. For each iteration we will fit our loocv model on the resampled data and return the MSE. This will provide us with a range of possible MSE values which we can use to assess the variance in our model predictions. "
   ]
  },
  {
   "cell_type": "code",
   "execution_count": null,
   "metadata": {},
   "outputs": [],
   "source": [
    "# bootstrap for age + tertiary sulci\n",
    "\n",
    "def bootstrapped(data, Xr, yr, n_samples, n_iter = 10000):\n",
    "    '''\n",
    "    Input\n",
    "        - data: dataframe\n",
    "        - Xr: array of column names for x predictors in data\n",
    "        - yr: column name for y predictor in data \n",
    "        - n_samples: number of samples to draw each time. Usually len(data)\n",
    "        - n_iter: number of iterations. Default = 10,000\n",
    "    '''\n",
    "    # array to store MSE\n",
    "    MSE = []\n",
    "    \n",
    "    # set no. iterations from input\n",
    "    n_iterations = n_iter    \n",
    "\n",
    "    for i in range(n_iterations):\n",
    "        #resample data with replacement\n",
    "        data_resampled = resample(data, n_samples = n_samples, replace = True)\n",
    "        \n",
    "        # set predictors in resampled data frame\n",
    "        Xresample = data_resampled[Xr]\n",
    "        yresample = data_resampled[yr]\n",
    "        \n",
    "        # run cross-validated linear regression on resampled data\n",
    "        loocv = lm_loocv(Xresample, yresample, 'boot')\n",
    "        \n",
    "        # save resampled MSE\n",
    "        ms_error = loocv[1]\n",
    "        \n",
    "        # append to MSE object\n",
    "        MSE.append(ms_error)\n",
    "\n",
    "    return MSE"
   ]
  },
  {
   "cell_type": "code",
   "execution_count": null,
   "metadata": {},
   "outputs": [],
   "source": [
    "## estimate 95% CI from bootrapped MSE ##\n",
    "\n",
    "def est_CI(bootrapped_MSE):\n",
    "    # 95% CI\n",
    "    alpha = 0.95 \n",
    "    \n",
    "    # calc lower percentile\n",
    "    p = ((1.0-alpha)/2)*100\n",
    "    lower =  np.percentile(bootrapped_MSE, p)\n",
    "    \n",
    "    # calc upper percentile\n",
    "    p = (alpha+((1.0-alpha)/2.0))*100\n",
    "    upper = np.percentile(bootrapped_MSE, p)\n",
    "\n",
    "    print ('%.1f confidence interval %.2f and %.2f' % (alpha*100, lower, upper))"
   ]
  },
  {
   "cell_type": "markdown",
   "metadata": {},
   "source": [
    "#### setup data\n",
    "Only RH sulci were associated with reasoning in the Discovery sample, so we first select only those sulci"
   ]
  },
  {
   "cell_type": "code",
   "execution_count": null,
   "metadata": {},
   "outputs": [],
   "source": [
    "## Get RH sulcal depth and behavior from replication data ##\n",
    "\n",
    "Replication_RH_depth = Replication_depth[Replication_depth['hemi']==\"rh\"]"
   ]
  },
  {
   "cell_type": "markdown",
   "metadata": {},
   "source": [
    "#### model 1a - 3 tertiary sulci + age ####\n",
    "First we fit the model derived from the Discovery sample. Three tertiary sulci (and age) are included as predictors in the model. "
   ]
  },
  {
   "cell_type": "code",
   "execution_count": null,
   "metadata": {},
   "outputs": [],
   "source": [
    "## set model for three tertiary sulci from discovery sample (pmfs-i, pmfs-a, pimfs) ##\n",
    "\n",
    "# x-vals are sulcal depth from discovery sample + age\n",
    "Xr =[ 'AssessmentAge','pmfs_i' ,'pmfs_a', 'pimfs' ]\n",
    "\n",
    "# predicting matrix reasoning score\n",
    "yr = 'MatrixR'"
   ]
  },
  {
   "cell_type": "code",
   "execution_count": null,
   "metadata": {},
   "outputs": [],
   "source": [
    "## predict reasoning score ##\n",
    "mod_1a = lm_loocv(Replication_RH_depth[Xr], Replication_RH_depth[yr], \"model_1a\")"
   ]
  },
  {
   "cell_type": "markdown",
   "metadata": {},
   "source": [
    "We can assess the fit of this model by looking at MSE-cv and R2 values"
   ]
  },
  {
   "cell_type": "code",
   "execution_count": null,
   "metadata": {
    "scrolled": true
   },
   "outputs": [],
   "source": [
    "# print MSE and R2\n",
    "print(mod_1a[0], mod_1a[1])"
   ]
  },
  {
   "cell_type": "markdown",
   "metadata": {},
   "source": [
    "To further assess our mdoel we can bootrap the MSE (we will plot this down below)"
   ]
  },
  {
   "cell_type": "code",
   "execution_count": null,
   "metadata": {},
   "outputs": [],
   "source": [
    "# boostrap MSE\n",
    "mod_1a_boot = bootstrapped(Replication_RH_depth, Xr, yr, 27, n_iter = 10000)"
   ]
  },
  {
   "cell_type": "code",
   "execution_count": null,
   "metadata": {},
   "outputs": [],
   "source": [
    "# compute MSE  95% CI \n",
    "CI_1a = est_CI(mod_1a_boot)"
   ]
  },
  {
   "cell_type": "code",
   "execution_count": null,
   "metadata": {},
   "outputs": [],
   "source": [
    "#compute median MSE\n",
    "med_1a = np.median(mod_1a_boot)"
   ]
  },
  {
   "cell_type": "markdown",
   "metadata": {},
   "source": [
    "Findings generalize from the Discovery sample, three RH tertiary sulci (pmfs-i, pmfs-a, pimfs) predict reasoning"
   ]
  },
  {
   "cell_type": "markdown",
   "metadata": {},
   "source": [
    "#### model 1b - two most predictive sulci  + age\n",
    "We can also consider the two sulci that were *most strongly* related to reasoning the discovery sample (as assessed by their beta values). These are the pmfs-i and pimfs"
   ]
  },
  {
   "cell_type": "code",
   "execution_count": null,
   "metadata": {},
   "outputs": [],
   "source": [
    "## set model for top two tertiary sulci from discovery sample (pmfs-i, pimfs) ##\n",
    "\n",
    "# x-vals are sulcal depth from discovery sample + age\n",
    "Xr =[ 'AssessmentAge','pmfs_i' , 'pimfs' ]"
   ]
  },
  {
   "cell_type": "code",
   "execution_count": null,
   "metadata": {},
   "outputs": [],
   "source": [
    "## predict reasoning score ##\n",
    "mod_1b = lm_loocv(Replication_RH_depth[Xr], Replication_RH_depth[yr], \"model_1b\")"
   ]
  },
  {
   "cell_type": "code",
   "execution_count": null,
   "metadata": {
    "scrolled": true
   },
   "outputs": [],
   "source": [
    "# print MSE and R2\n",
    "print(mod_1b[0], mod_1b[1])"
   ]
  },
  {
   "cell_type": "markdown",
   "metadata": {},
   "source": [
    "This model offers and even stronger fit for our data"
   ]
  },
  {
   "cell_type": "code",
   "execution_count": null,
   "metadata": {},
   "outputs": [],
   "source": [
    "# boostrap MSE\n",
    "mod_1b_boot = bootstrapped(Replication_RH_depth, Xr, yr, 27, n_iter = 10000)"
   ]
  },
  {
   "cell_type": "code",
   "execution_count": null,
   "metadata": {},
   "outputs": [],
   "source": [
    "# compute MSE  95% CI \n",
    "CI_1b = est_CI(mod_1b_boot)"
   ]
  },
  {
   "cell_type": "code",
   "execution_count": null,
   "metadata": {},
   "outputs": [],
   "source": [
    "#compute median MSE\n",
    "med_1b = np.median(mod_1b_boot)"
   ]
  },
  {
   "cell_type": "markdown",
   "metadata": {},
   "source": [
    "We see that the spread of possible MSE values tightens with this model."
   ]
  },
  {
   "cell_type": "markdown",
   "metadata": {},
   "source": [
    "#### model 2 - age alone\n",
    "To assess the unique variance *not* due to age. We can remove sulci from the model and use age as the sole predictor. "
   ]
  },
  {
   "cell_type": "code",
   "execution_count": null,
   "metadata": {},
   "outputs": [],
   "source": [
    "## set model for age alone ##\n",
    "Xr =[ 'AssessmentAge' ]"
   ]
  },
  {
   "cell_type": "code",
   "execution_count": null,
   "metadata": {},
   "outputs": [],
   "source": [
    "## predict reasoning score ##\n",
    "mod_2 = lm_loocv(Replication_RH_depth[Xr], Replication_RH_depth[yr], \"model_2\")"
   ]
  },
  {
   "cell_type": "code",
   "execution_count": null,
   "metadata": {
    "scrolled": true
   },
   "outputs": [],
   "source": [
    "# print MSE and R2\n",
    "print(mod_2[0], mod_2[1])"
   ]
  },
  {
   "cell_type": "markdown",
   "metadata": {},
   "source": [
    "Removing age from the model decreases the model fit. The tertiary sulci are explaining additional variance beyond what is explained by age. "
   ]
  },
  {
   "cell_type": "code",
   "execution_count": null,
   "metadata": {},
   "outputs": [],
   "source": [
    "# boostrap MSE\n",
    "mod_2_boot = bootstrapped(Replication_RH_depth, Xr, yr, 27, n_iter = 10000)"
   ]
  },
  {
   "cell_type": "code",
   "execution_count": null,
   "metadata": {},
   "outputs": [],
   "source": [
    "# compute MSE  95% CI \n",
    "CI_2 = est_CI(mod_2_boot)"
   ]
  },
  {
   "cell_type": "code",
   "execution_count": null,
   "metadata": {},
   "outputs": [],
   "source": [
    "#compute median MSE\n",
    "med_2 = np.median(mod_2_boot)"
   ]
  },
  {
   "cell_type": "markdown",
   "metadata": {},
   "source": [
    "We see a slightly larger range in estimated MSE values"
   ]
  },
  {
   "cell_type": "markdown",
   "metadata": {},
   "source": [
    "#### model 3 - all RH sulci\n",
    "Finally, we can confirm that the findings from the Discovery sample and include all RH sulci in the model."
   ]
  },
  {
   "cell_type": "code",
   "execution_count": null,
   "metadata": {},
   "outputs": [],
   "source": [
    "## set model for ##\n",
    "Xr = ['AssessmentAge', 'central','iprs', 'sprs', 'sfs_p','sfs_a', 'ifs',\n",
    "      'imfs_v', 'imfs_h', 'pmfs_p','pmfs_i', 'pimfs', 'pmfs_a']"
   ]
  },
  {
   "cell_type": "code",
   "execution_count": null,
   "metadata": {},
   "outputs": [],
   "source": [
    "## predict reasoning score ##\n",
    "mod_3 = lm_loocv(Replication_RH_depth[Xr], Replication_RH_depth[yr], \"model_3\")"
   ]
  },
  {
   "cell_type": "code",
   "execution_count": null,
   "metadata": {
    "scrolled": true
   },
   "outputs": [],
   "source": [
    "# print MSE and R2\n",
    "print(mod_3[0], mod_3[1])"
   ]
  },
  {
   "cell_type": "markdown",
   "metadata": {},
   "source": [
    "We see this notably worsens the fit of our model. "
   ]
  },
  {
   "cell_type": "code",
   "execution_count": null,
   "metadata": {},
   "outputs": [],
   "source": [
    "# boostrap MSE\n",
    "mod_3_boot = bootstrapped(Replication_RH_depth, Xr, yr, 27, n_iter = 10000)"
   ]
  },
  {
   "cell_type": "code",
   "execution_count": null,
   "metadata": {},
   "outputs": [],
   "source": [
    "# compute MSE  95% CI \n",
    "#CI_3 = est_CI(mod_3_boot)"
   ]
  },
  {
   "cell_type": "code",
   "execution_count": null,
   "metadata": {},
   "outputs": [],
   "source": [
    "#compute median MSE\n",
    "med_3 = np.median(mod_3_boot)"
   ]
  },
  {
   "cell_type": "markdown",
   "metadata": {},
   "source": [
    "Consistent with results from the Discovery sample, including all RH LPFC sulci worsens reasoning score prediction. Importantly the bootrapping shows extremely high variance in error in this model suggesting that we may be overfitting. This is not suprrising as we are using > 12 predictors. Regularization techniques (such as lasso) are strongly recommended for > 10 predictors"
   ]
  },
  {
   "cell_type": "markdown",
   "metadata": {},
   "source": [
    "#### Correlate model predictions\n",
    "To further characterize the fit of our two best models (model 1a, model 1b) we can correlate our predcited scores from the model with the subjects' actual matrix reasoning scores. "
   ]
  },
  {
   "cell_type": "code",
   "execution_count": null,
   "metadata": {
    "scrolled": true
   },
   "outputs": [],
   "source": [
    "## model 1a ## \n",
    "mod_1a_preds = mod_1a[2]\n",
    "mod_1a_preds.corr(method = 'spearman')"
   ]
  },
  {
   "cell_type": "code",
   "execution_count": null,
   "metadata": {
    "scrolled": false
   },
   "outputs": [],
   "source": [
    "## model 1a ## \n",
    "mod_1b_preds = mod_1b[2]\n",
    "mod_1b_preds.corr(method = 'spearman')"
   ]
  },
  {
   "cell_type": "markdown",
   "metadata": {},
   "source": [
    "### Plot loocv\n",
    "figure 3b-c: visualize the fit of all the models"
   ]
  },
  {
   "cell_type": "markdown",
   "metadata": {},
   "source": [
    "#### plot correlation between measured and predicted scores"
   ]
  },
  {
   "cell_type": "code",
   "execution_count": null,
   "metadata": {},
   "outputs": [],
   "source": [
    "%%R\n",
    "## load model predictions as R dataframe ##\n",
    "model_1a = read.csv('plots/model_1a.csv')\n",
    "model_1b = read.csv('plots/model_1b.csv')"
   ]
  },
  {
   "cell_type": "markdown",
   "metadata": {},
   "source": [
    "Set up the scatterplot"
   ]
  },
  {
   "cell_type": "code",
   "execution_count": null,
   "metadata": {},
   "outputs": [],
   "source": [
    "%%R\n",
    "## scatter plot ##\n",
    "scatter_plot <- function(ggplot_object, color_){\n",
    "    \n",
    "    # set theme\n",
    "    scattertheme = theme(\n",
    "        # axis title\n",
    "        axis.title = element_text(size =18),\n",
    "        # axis text\n",
    "        axis.text = element_text(size = 18),\n",
    "        # legend \n",
    "        legend.title = element_blank(),\n",
    "        # set pannel\n",
    "        panel.grid.major = element_blank(), \n",
    "        panel.grid.minor = element_blank()) \n",
    "    \n",
    "    plot = ggplot_object + \n",
    "    # set regression line\n",
    "    geom_smooth(aes(y=Predicted),\n",
    "                # linear reg line\n",
    "                method=\"lm\",\n",
    "                # incl. standard error\n",
    "                se=TRUE,\n",
    "                fill=\"gray\",\n",
    "                #line asthetics\n",
    "                color=color_, \n",
    "                alpha=0.5, \n",
    "                linetype=\"dotted\") + \n",
    "    # set points \n",
    "    geom_point(shape = 19, \n",
    "                size = 2,\n",
    "                color = color_ ) + \n",
    "    # replcace classic theme with these settings\n",
    "    theme_classic() %+replace% scattertheme\n",
    "    \n",
    "    return(plot)\n",
    "    }"
   ]
  },
  {
   "cell_type": "markdown",
   "metadata": {},
   "source": [
    "figure 3b: correlation between actual and predicted reasoning scores for model 1b"
   ]
  },
  {
   "cell_type": "code",
   "execution_count": null,
   "metadata": {},
   "outputs": [],
   "source": [
    "%%R\n",
    "## scatter plot ##\n",
    "scatter = ggplot(model_1b, aes(Measured, Predicted)) \n",
    "scatter_plot(scatter, \"#D55E00\") + \n",
    "xlim(15,35) + \n",
    "ylim(15,35)+\n",
    "xlab(\"Measured Matrix Reasoning score\") +\n",
    "ylab(\"Predicted Matrix Reasoning score\")"
   ]
  },
  {
   "cell_type": "markdown",
   "metadata": {},
   "source": [
    "supplementary figure 5a: correlation between actual and predicted matrix reasoning scores for model 1a"
   ]
  },
  {
   "cell_type": "code",
   "execution_count": null,
   "metadata": {},
   "outputs": [],
   "source": [
    "%%R\n",
    "## scatter plot ##\n",
    "scatter = ggplot(model_1a, aes(Measured, Predicted)) \n",
    "scatter_plot(scatter, \"#D55E00\") + \n",
    "xlim(15,35) + \n",
    "ylim(15,35)+\n",
    "xlab(\"Measured Matrix Reasoning score\") +\n",
    "ylab(\"Predicted Matrix Reasoning score\")"
   ]
  },
  {
   "cell_type": "markdown",
   "metadata": {},
   "source": [
    "#### Model comparison\n",
    "Compare the fit of our best models (model 1a, model 1b) to the alternative nested models (model 2, model 3)"
   ]
  },
  {
   "cell_type": "code",
   "execution_count": null,
   "metadata": {},
   "outputs": [],
   "source": [
    "%%R\n",
    "## load model predictions for alternative models in R ##\n",
    "model_2 = read.csv('plots/model_2.csv')\n",
    "model_3 = read.csv('plots/model_3.csv')"
   ]
  },
  {
   "cell_type": "markdown",
   "metadata": {},
   "source": [
    "Construct a density plot of measured matrix reasoning scores"
   ]
  },
  {
   "cell_type": "code",
   "execution_count": null,
   "metadata": {},
   "outputs": [],
   "source": [
    "%%R\n",
    "## create density plots ##\n",
    " density_plot <- function(ggplot_object, color_)\n",
    "     plot = ggplot_object + \n",
    "    \n",
    "    # density plot\n",
    "    geom_density(fill=color_) +\n",
    "\n",
    "    # set axis labels\n",
    "    xlab(\"Matrix Reasoning score\") +\n",
    "    ylab(\"Density\\n\")   + \n",
    "    \n",
    "    #set axis scale\n",
    "    scale_x_continuous(limits = c(10,40)) +\n",
    "    scale_y_continuous(limits = c(0,0.1))+\n",
    "\n",
    "    # customize theme\n",
    "     theme_bw() %+replace% \n",
    "     theme(\n",
    "            # set axis titles\n",
    "            axis.title.x = element_text(color=\"#333333\", size=28), \n",
    "            axis.title.y = element_text(color=\"#333333\", angle = 90, \n",
    "                                        size=34), \n",
    "            # set axis text\n",
    "            axis.text.x = element_text(color=\"#333333\", size=24),\n",
    "            axis.text.y = element_text(color=\"#333333\", size=28),\n",
    "         \n",
    "            # set legend\n",
    "            legend.title = element_blank(), \n",
    "         \n",
    "            # set pannel\n",
    "            panel.grid.major= element_blank(), panel.grid.minor=element_blank(),\n",
    "            \n",
    "         )"
   ]
  },
  {
   "cell_type": "markdown",
   "metadata": {},
   "source": [
    "Set up an overlay in order to layer predicted scores on top of measured matrix reasoning scores. "
   ]
  },
  {
   "cell_type": "code",
   "execution_count": null,
   "metadata": {},
   "outputs": [],
   "source": [
    "%%R\n",
    "## add overlay of predicted scores to density plot ##\n",
    "overlay <- function(model, fill){\n",
    "    plt = geom_density(\n",
    "                    # data to overlay\n",
    "                    aes(x = model$Predicted),\n",
    "        \n",
    "                   # set transparency\n",
    "                       alpha = 0.5, \n",
    "        \n",
    "                    # set overlay color\n",
    "                    fill = fill,\n",
    "                    color = fill, \n",
    "                        )\n",
    "    return(plt)\n",
    "}\n"
   ]
  },
  {
   "cell_type": "markdown",
   "metadata": {},
   "source": [
    "figure 3c"
   ]
  },
  {
   "cell_type": "code",
   "execution_count": null,
   "metadata": {},
   "outputs": [],
   "source": [
    "%%R\n",
    "## measured scores ##\n",
    "g0 = ggplot(model_1b, aes(x = Measured))\n",
    "d0 = density_plot(g0, \"light gray\")"
   ]
  },
  {
   "cell_type": "code",
   "execution_count": null,
   "metadata": {
    "scrolled": true
   },
   "outputs": [],
   "source": [
    "%%R\n",
    "## overlay model 1b\n",
    "d1b = d0 + overlay(model_1b,\"#D55E00\")\n",
    "d1b"
   ]
  },
  {
   "cell_type": "code",
   "execution_count": null,
   "metadata": {},
   "outputs": [],
   "source": [
    "%%R\n",
    "## overlay model 2\n",
    "d2 = d0 + overlay(model_2,'#00992F')\n",
    "d2"
   ]
  },
  {
   "cell_type": "code",
   "execution_count": null,
   "metadata": {
    "scrolled": false
   },
   "outputs": [],
   "source": [
    "%%R\n",
    "## overlay model 3\n",
    "d3 = d0 + overlay(model_3,\"#0072B2\")\n",
    "d3"
   ]
  },
  {
   "cell_type": "markdown",
   "metadata": {},
   "source": [
    "#### bootsrapped MSE\n",
    "figure 3d: plot the bootstrapped MSE for each model"
   ]
  },
  {
   "cell_type": "code",
   "execution_count": null,
   "metadata": {},
   "outputs": [],
   "source": [
    "from matplotlib import pyplot as plt"
   ]
  },
  {
   "cell_type": "markdown",
   "metadata": {},
   "source": [
    "model 3 has a very large MSE. We will only show the range 0-100 in order to allow visualization of all three models on the same axis. "
   ]
  },
  {
   "cell_type": "code",
   "execution_count": null,
   "metadata": {},
   "outputs": [],
   "source": [
    "bins = np.linspace(1, 100, 200)"
   ]
  },
  {
   "cell_type": "code",
   "execution_count": null,
   "metadata": {
    "scrolled": true
   },
   "outputs": [],
   "source": [
    "## plot bootrapped MSE ##\n",
    "\n",
    "fig, axs = plt.subplots(3, figsize=(10, 5))\n",
    "\n",
    "# histogram for model 1b, 2, 3\n",
    "axs[0].hist(mod_1b_boot, bins,alpha = 0.5, color = 'peachpuff',edgecolor = \"#D55E00\")\n",
    "axs[1].hist(mod_2_boot,bins, alpha = 0.8, color = 'honeydew', edgecolor = 'seagreen')\n",
    "axs[2].hist(mod_3_boot,bins, alpha = 0.8, color = 'aliceblue', edgecolor = 'royalblue')\n",
    "\n",
    "# customize plot\n",
    "for ax in axs.flat:\n",
    "    # set y-axis limit\n",
    "    ax.set(ylim=(0, 1000))\n",
    "\n",
    "    # set tick marks\n",
    "    ax.set_yticks((0,500,1000))\n",
    "    ax.set_xticks((0,10,20,30,40,50,60,70,80,90,100))\n",
    "    \n",
    "    # bounding box\n",
    "    ax.spines['right'].set_visible(False)\n",
    "    ax.spines['top'].set_visible(False)\n",
    "\n",
    "# draw vertical line at median MSE\n",
    "axs[0].axvline(np.median(med_1b), 0,  120, color = 'red')\n",
    "axs[1].axvline(np.median(med_2), 0,  120, color = 'red')\n",
    "axs[2].axvline(np.median(med_3), 0,  120, color = 'red')\n",
    "\n",
    "\n",
    "fig.show()\n"
   ]
  },
  {
   "cell_type": "markdown",
   "metadata": {},
   "source": [
    "### Additional Behavior analyses\n",
    "We can further evaluate our model by look at other common morphological and behavioral metrics. \n",
    "* Does sulcal depth predict processing speed? \n",
    "* Does cortical thickness predict Matrix Reasoning?\n",
    "\n",
    "we can compare the predictions from these models to our sulcal depth - matrix reasoning model. \n",
    "For non-nested mdoel comparison we will use AIC"
   ]
  },
  {
   "cell_type": "code",
   "execution_count": null,
   "metadata": {},
   "outputs": [],
   "source": [
    "## AIC ##\n",
    "\n",
    "def calculate_aic(n, mse, num_params):\n",
    "    '''\n",
    "    input:\n",
    "    - n = num observations\n",
    "    - mse =. mean squared error from regression\n",
    "    - num_params = number of predictors in the model (including the intercept if applicable!)\n",
    "    '''\n",
    "    aic = n *np.log(mse) + 2 * num_params\n",
    "    return aic"
   ]
  },
  {
   "cell_type": "markdown",
   "metadata": {},
   "source": [
    "AIC is a relative measure. In order to assess the fit we will compare the AIC value of each alternative model to our best model. THe model with the lowest AIC is better. To report a difference the difference in AIC must be > 2. A difference > 10 is considered substantial. "
   ]
  },
  {
   "cell_type": "markdown",
   "metadata": {},
   "source": [
    "First we calculate AIC from our best model. We will use this to assess the cortical thickness and processing speed model"
   ]
  },
  {
   "cell_type": "code",
   "execution_count": null,
   "metadata": {},
   "outputs": [],
   "source": [
    "## AIC from our tertiary sulcal model 1b ##\n",
    "AIC_1b = calculate_aic(27, mod_1b[1], 4)"
   ]
  },
  {
   "cell_type": "markdown",
   "metadata": {},
   "source": [
    "#### Processing speed\n",
    "First we use the predictors from our best performing model (1b) to predict processing speed"
   ]
  },
  {
   "cell_type": "code",
   "execution_count": null,
   "metadata": {},
   "outputs": [],
   "source": [
    "# x-vals are sulcal depth from discovery sample + age\n",
    "Xr =[ 'AssessmentAge','pmfs_i' ,  'pimfs' ]\n",
    "\n",
    "# Predictor is CrossOut score\n",
    "yr = 'CrossoutRawScore'"
   ]
  },
  {
   "cell_type": "code",
   "execution_count": null,
   "metadata": {},
   "outputs": [],
   "source": [
    "## predict Crossout score from depth ##\n",
    "model_crOut = lm_loocv(Replication_RH_depth[Xr], Replication_RH_depth[yr], \"model_crOut\")"
   ]
  },
  {
   "cell_type": "code",
   "execution_count": null,
   "metadata": {},
   "outputs": [],
   "source": [
    "model_crOut[0], model_crOut[1]"
   ]
  },
  {
   "cell_type": "code",
   "execution_count": null,
   "metadata": {},
   "outputs": [],
   "source": [
    "AIC_crOut = calculate_aic(27, model_crOut[1], 4)"
   ]
  },
  {
   "cell_type": "code",
   "execution_count": null,
   "metadata": {},
   "outputs": [],
   "source": [
    "change_AIC = AIC_crOut - AIC_1b"
   ]
  },
  {
   "cell_type": "markdown",
   "metadata": {},
   "source": [
    "#### cortical thickness\n",
    "We replace depth values for each of the sulci in our best performing model (1b) with cortical thickness, and then predict reasoning score"
   ]
  },
  {
   "cell_type": "code",
   "execution_count": null,
   "metadata": {},
   "outputs": [],
   "source": [
    "## load cortical thickness data ## \n",
    "Replication_thickness = pd.read_csv('Replication_thick.csv')"
   ]
  },
  {
   "cell_type": "code",
   "execution_count": null,
   "metadata": {},
   "outputs": [],
   "source": [
    "## select RH sulci ## \n",
    "Replication_RH_thickness = Replication_thickness[Replication_thickness['hemi']==\"rh\"]"
   ]
  },
  {
   "cell_type": "code",
   "execution_count": null,
   "metadata": {},
   "outputs": [],
   "source": [
    "# y predictor is now Matrix R\n",
    "yr = 'MatrixR'"
   ]
  },
  {
   "cell_type": "code",
   "execution_count": null,
   "metadata": {},
   "outputs": [],
   "source": [
    "## predict matrix reasoning score from thickness ## \n",
    "model_thick = lm_loocv(Replication_RH_thickness[Xr], Replication_RH_thickness[yr], \"model_thick\")"
   ]
  },
  {
   "cell_type": "code",
   "execution_count": null,
   "metadata": {},
   "outputs": [],
   "source": [
    "print(model_thick[0], model_thick[1])"
   ]
  },
  {
   "cell_type": "code",
   "execution_count": null,
   "metadata": {},
   "outputs": [],
   "source": [
    "AIC_thick = calculate_aic(27, model_thick[1], 4)"
   ]
  },
  {
   "cell_type": "code",
   "execution_count": null,
   "metadata": {},
   "outputs": [],
   "source": [
    "change_AIC = AIC_thick - AIC_1b"
   ]
  },
  {
   "cell_type": "markdown",
   "metadata": {},
   "source": [
    "#### plot \n",
    "Visualize the fit of these models and use the AIC metric to compare them to model 1b"
   ]
  },
  {
   "cell_type": "code",
   "execution_count": null,
   "metadata": {},
   "outputs": [],
   "source": [
    "%%R\n",
    "## load model output as R dataframe ## \n",
    "model_thickness = read.csv('plots/model_thick.csv')\n",
    "model_crOut = read.csv('plots/model_crOut.csv')"
   ]
  },
  {
   "cell_type": "markdown",
   "metadata": {},
   "source": [
    "Supplementary figure 6a: Scatter plot of predicted vs. actual score using cortical thickness"
   ]
  },
  {
   "cell_type": "code",
   "execution_count": null,
   "metadata": {
    "scrolled": true
   },
   "outputs": [],
   "source": [
    "%%R\n",
    "## scatter plot of measured vs. predicted ##\n",
    "scatter = ggplot(model_thickness, aes(Measured, Predicted)) \n",
    "scatter_plot(scatter, \"black\") + \n",
    "xlim(15,35) + \n",
    "ylim(15,35)+\n",
    "xlab(\"Measured Matrix Reasoning score\") +\n",
    "ylab(\"Predicted Matrix Reasoning score\")"
   ]
  },
  {
   "cell_type": "markdown",
   "metadata": {},
   "source": [
    "We can then compare the MSE from this model to the same model using sulcal depth. These are non-nested so we will use the AIC value to compare"
   ]
  },
  {
   "cell_type": "code",
   "execution_count": null,
   "metadata": {},
   "outputs": [],
   "source": [
    "%%R\n",
    "## organize data for bar plot \n",
    "model = c(\"Thickness\", 'Depth')\n",
    "\n",
    "# MSE from both models\n",
    "MSE = c( 8.52, 13.54)\n",
    "\n",
    "data_thick = data.frame(model, MSE)"
   ]
  },
  {
   "cell_type": "code",
   "execution_count": null,
   "metadata": {
    "scrolled": true
   },
   "outputs": [],
   "source": [
    "%%R\n",
    "## barplot depth vs thickness MSE ##\n",
    "    plot = ggplot(data_thick, aes(model, MSE)) +\n",
    "        \n",
    "    # barplot \n",
    "    geom_col(alpha = 0.6, fill = c(\"black\", '#D55E00')) +\n",
    "    \n",
    "    # set limits\n",
    "    ylim (0, 22)+\n",
    "\n",
    "  # add AIC val\n",
    "    annotate(\"text\", label = \"AIC = 14.51\", \n",
    "             # adjust text position\n",
    "             x=2, y=20, \n",
    "            # adjust text size\n",
    "             size = 8) +\n",
    "             \n",
    "    # set theme\n",
    "    set_theme()\n",
    "plot"
   ]
  },
  {
   "cell_type": "markdown",
   "metadata": {},
   "source": [
    "We see that our original model has a lower MSE than the cortical thickness model. The change in AIC is > 10 so this is considered a large difference."
   ]
  },
  {
   "cell_type": "markdown",
   "metadata": {},
   "source": [
    "supplementary figure 6b: scatter plot of predicted vs. actual cross out scores."
   ]
  },
  {
   "cell_type": "code",
   "execution_count": null,
   "metadata": {},
   "outputs": [],
   "source": [
    "%%R\n",
    "## scatter plot of measured vs. predicted ##\n",
    "scatter = ggplot(model_crOut, aes(Measured, Predicted)) \n",
    "scatter_plot(scatter, \"#efa500\") + \n",
    "xlim(10,35) + \n",
    "ylim(10,35)+\n",
    "xlab(\"Measured Cross Out score\") +\n",
    "ylab(\"Predicted Cross Out score\")"
   ]
  },
  {
   "cell_type": "markdown",
   "metadata": {},
   "source": [
    "We can compare this to the performance of the same model when we use it to predict matrix reasoning. These are non-nested models so we will use AIC."
   ]
  },
  {
   "cell_type": "code",
   "execution_count": null,
   "metadata": {},
   "outputs": [],
   "source": [
    "%%R\n",
    "## organize data for bar plot \n",
    "model = c(\"Cross-Out\", \"Matrix Reasoning\")\n",
    "\n",
    "# MSE from both models\n",
    "MSE = c(20.53, 8.52)\n",
    "\n",
    "data_CR = data.frame(model, MSE)"
   ]
  },
  {
   "cell_type": "code",
   "execution_count": null,
   "metadata": {},
   "outputs": [],
   "source": [
    "%%R\n",
    "## barplot depth vs thickness MSE ##\n",
    "    plot = ggplot(data_CR, aes(model, MSE)) +\n",
    "        \n",
    "    # barplot \n",
    "    geom_col(alpha = 0.6, fill = c(\"#efa500\", '#D55E00')) +\n",
    "    \n",
    "    # set limits\n",
    "    ylim (0, 22)+\n",
    "\n",
    "    # add AIC val\n",
    "    annotate(\"text\", label = \"AIC = 23.76\", \n",
    "             # adjust text position\n",
    "             x=2, y=20, \n",
    "            # adjust text size\n",
    "             size = 8\n",
    "            ) + \n",
    "\n",
    "    # set theme\n",
    "    set_theme()\n",
    "plot"
   ]
  },
  {
   "cell_type": "markdown",
   "metadata": {},
   "source": [
    "This model does a substantially better job predicting matrix reasoning than cross-out score"
   ]
  },
  {
   "cell_type": "markdown",
   "metadata": {},
   "source": [
    "## Suppementary materials"
   ]
  },
  {
   "cell_type": "markdown",
   "metadata": {},
   "source": [
    "Additional analyses that are used to generate supplementary figure 3"
   ]
  },
  {
   "cell_type": "markdown",
   "metadata": {},
   "source": [
    "## Age\n",
    "Characterize the age both samples "
   ]
  },
  {
   "cell_type": "code",
   "execution_count": null,
   "metadata": {},
   "outputs": [],
   "source": [
    "%%R\n",
    "## load depth and behavior data in R ## \n",
    "Discovery_depth = read.csv(\"Discovery_Depth.csv\")\n",
    "Replication_depth = read.csv(\"Replication_Depth.csv\")"
   ]
  },
  {
   "cell_type": "markdown",
   "metadata": {},
   "source": [
    "Get the mean age for each sample"
   ]
  },
  {
   "cell_type": "code",
   "execution_count": null,
   "metadata": {},
   "outputs": [],
   "source": [
    "%%R\n",
    "# Discovery \n",
    "Discovery_age = mean(Discovery_depth$AssessmentAge)\n",
    "\n",
    "# Replication\n",
    "Replication_age = mean(Replication_depth$AssessmentAge)"
   ]
  },
  {
   "cell_type": "markdown",
   "metadata": {},
   "source": [
    "Calculate a test statistic to test for differences in age between samples"
   ]
  },
  {
   "cell_type": "code",
   "execution_count": null,
   "metadata": {},
   "outputs": [],
   "source": [
    "%%R\n",
    "## confirm age is compatible between samples\n",
    "# corr for unequal var is default\n",
    "t.test(Discovery_depth$AssessmentAge, Replication_depth$AssessmentAge)"
   ]
  },
  {
   "cell_type": "markdown",
   "metadata": {},
   "source": [
    "No significant differences in age between groups"
   ]
  },
  {
   "cell_type": "markdown",
   "metadata": {},
   "source": [
    "#### Correlate age with reasoning score"
   ]
  },
  {
   "cell_type": "code",
   "execution_count": null,
   "metadata": {},
   "outputs": [],
   "source": [
    "%%R\n",
    "## Correlate age and Matrix Reasoning in both samples ##\n",
    "Discovery_age_corr = cor.test(Discovery_depth$MatrixR, Discovery_depth$AssessmentAge)\n",
    "Discovery_age_corr"
   ]
  },
  {
   "cell_type": "code",
   "execution_count": null,
   "metadata": {
    "scrolled": true
   },
   "outputs": [],
   "source": [
    "%%R\n",
    "## Correlate age and Matrix Reasoning in both samples ##\n",
    "Replication_age_corr = cor.test(Replication_depth$MatrixR, Replication_depth$AssessmentAge)\n",
    "Replication_age_corr"
   ]
  },
  {
   "cell_type": "markdown",
   "metadata": {},
   "source": [
    "Age is correlated with Reasoning. This necessitates the inclusion of age in our model evaluation"
   ]
  },
  {
   "cell_type": "markdown",
   "metadata": {},
   "source": [
    "#### Correlate age with sulcal morphology. \n",
    "Only to visualize correlation coefficients. We do not report significant values as there are multiple comparisons which will inflate our p-value"
   ]
  },
  {
   "cell_type": "code",
   "execution_count": null,
   "metadata": {},
   "outputs": [],
   "source": [
    "%%R\n",
    "## separate into lh and rh\n",
    "Discovery_depth_rh = Discovery_depth[Discovery_depth$hemi == 'rh',]\n",
    "Discovery_depth_lh = Discovery_depth[Discovery_depth$hemi == 'lh',]"
   ]
  },
  {
   "cell_type": "code",
   "execution_count": null,
   "metadata": {},
   "outputs": [],
   "source": [
    "%%R\n",
    "Replication_depth_rh = Replication_depth[Replication_depth$hemi == 'rh',]\n",
    "Replication_depth_lh = Replication_depth[Replication_depth$hemi == 'lh',]"
   ]
  },
  {
   "cell_type": "markdown",
   "metadata": {},
   "source": [
    "Construct a bar plot of correlation coefficients (supplementary figure 3a)"
   ]
  },
  {
   "cell_type": "code",
   "execution_count": null,
   "metadata": {},
   "outputs": [],
   "source": [
    "%%R\n",
    "## construct a correlation matrix with cols of interest ## \n",
    "corr_cols <- function(df, y, x){\n",
    "# ---------------\n",
    "# input = dataframe, value of interest, cols to corr with val of interest.\n",
    "# Return correlation coefficients #\n",
    "# --------------\n",
    "    # corr y with each col in X\n",
    "    corr = cor(df[y], df[x])\n",
    "    # save coefs as a dataframe\n",
    "    corr.df = data.frame(corr)\n",
    "\n",
    "    return (corr.df)\n",
    "}"
   ]
  },
  {
   "cell_type": "code",
   "execution_count": null,
   "metadata": {},
   "outputs": [],
   "source": [
    "%%R\n",
    "## Discovery - Corr between age and depth of each sulcus\n",
    "\n",
    "discovery_rh_corr = corr_cols(Discovery_depth_rh, 'AssessmentAge', c(6:17))\n",
    "discovery_lh_corr =  corr_cols(Discovery_depth_lh, 'AssessmentAge', c(6:17))"
   ]
  },
  {
   "cell_type": "code",
   "execution_count": null,
   "metadata": {},
   "outputs": [],
   "source": [
    "%%R\n",
    "## Replication - Corr between age and depth of each sulcus\n",
    "\n",
    "replication_rh_corr = corr_cols(Replication_depth_rh, 'AssessmentAge', c(6:17))\n",
    "replication_lh_corr =  corr_cols(Replication_depth_lh, 'AssessmentAge', c(6:17))"
   ]
  },
  {
   "cell_type": "markdown",
   "metadata": {},
   "source": [
    "#### Visualize tertiary sulci and age \n",
    "Specifically we are interested in whether the variability in tertiay sulcal depth is related to age. Lets plot the relationship between sulcal depth and age for all of our tertiary sulci (Supplementary figure 3b-c)"
   ]
  },
  {
   "cell_type": "markdown",
   "metadata": {},
   "source": [
    "Load in tertiary sulcal depth (in both hemispheres) and age values as an R dataframe for plotting"
   ]
  },
  {
   "cell_type": "code",
   "execution_count": null,
   "metadata": {},
   "outputs": [],
   "source": [
    "%%R\n",
    "## tertiary sulci only ## \n",
    "Discovery_tert_age = read.csv('plots/Discovery_tertiary_age')\n",
    "Replication_tert_age = read.csv('plots/Replication_tertiary_age')\n"
   ]
  },
  {
   "cell_type": "markdown",
   "metadata": {},
   "source": [
    "Set up a scatter plot to visualize the relationship between age and tertiary sulcal depth"
   ]
  },
  {
   "cell_type": "code",
   "execution_count": null,
   "metadata": {},
   "outputs": [],
   "source": [
    "%%R\n",
    "### Create scatter plots ###\n",
    "scatter_age <- function( data){\n",
    "    \n",
    "    # order of labels \n",
    "    data$label = factor(data$label,\n",
    "                           levels=c(\"pmfs_p\",\"pmfs_i\",\"pmfs_a\", 'pimfs'))\n",
    "                           \n",
    "    ##  separate data into lh and rh ##\n",
    "    data_rh = subset(data, hemi == \"rh\")\n",
    "    data_lh = subset(data, hemi == \"lh\")\n",
    "    \n",
    "    ## plot ## \n",
    "    plot = ggplot(data_rh, aes(AssessmentAge, norm_mean_sulcal_depth)) + \n",
    "    \n",
    "    # rh scatter\n",
    "    geom_point( size = 1, color = \"#D55E00\") +\n",
    "    #rh trend line\n",
    "    geom_smooth( method = 'lm',\n",
    "                se = FALSE,  color = \"#D55E00\") + \n",
    "    \n",
    "    #lh scatter\n",
    "    geom_point(data = data_lh, shape = 17, size = 1, color = \"#fdae6b\") + \n",
    "    # lh trend line\n",
    "    geom_smooth(data =data_lh ,method = 'lm', se = FALSE,  color = \"#fdae6b\")+\n",
    "    \n",
    "    # set y-axis \n",
    "    ylab ('Normalized Mean Sulcal Depth') + \n",
    " \n",
    "    \n",
    "    # set x-axis limits \n",
    "     scale_x_continuous(name=\"Age (years)\", \n",
    "                        breaks=c(6, 8, 10, 12,14,16,18)) +\n",
    "    \n",
    "    # facet wrap by label\n",
    "    facet_wrap(~label, nrow = 1)\n",
    "    \n",
    "    \n",
    "return (plot)\n",
    "}\n",
    "# Discovery (facet wrap)\n",
    "# Replication (face wrap)"
   ]
  },
  {
   "cell_type": "code",
   "execution_count": null,
   "metadata": {},
   "outputs": [],
   "source": [
    "%%R\n",
    "## plot discovery ## \n",
    "plt = scatter_age(Discovery_tert_age) + set_theme()\n",
    "plt"
   ]
  },
  {
   "cell_type": "code",
   "execution_count": null,
   "metadata": {},
   "outputs": [],
   "source": [
    "%%R \n",
    "## plot replications ## \n",
    "plt = scatter_age(Replication_tert_age) + set_theme()\n",
    "plt"
   ]
  }
 ],
 "metadata": {
  "kernelspec": {
   "display_name": "Python 3",
   "language": "python",
   "name": "python3"
  },
  "language_info": {
   "codemirror_mode": {
    "name": "ipython",
    "version": 3
   },
   "file_extension": ".py",
   "mimetype": "text/x-python",
   "name": "python",
   "nbconvert_exporter": "python",
   "pygments_lexer": "ipython3",
   "version": "3.7.3"
  }
 },
 "nbformat": 4,
 "nbformat_minor": 2
}
